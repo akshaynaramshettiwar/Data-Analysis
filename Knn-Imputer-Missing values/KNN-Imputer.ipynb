{
 "cells": [
  {
   "cell_type": "code",
   "execution_count": 65,
   "id": "e1d63362",
   "metadata": {},
   "outputs": [],
   "source": [
    "import pandas as pd\n",
    "import numpy as np\n",
    "from sklearn.model_selection import train_test_split"
   ]
  },
  {
   "cell_type": "code",
   "execution_count": 66,
   "id": "8b98678f",
   "metadata": {},
   "outputs": [],
   "source": [
    "data=pd.read_csv('Train.csv',delimiter=',')"
   ]
  },
  {
   "cell_type": "code",
   "execution_count": 67,
   "id": "80c8f9f0",
   "metadata": {},
   "outputs": [],
   "source": [
    "# let's takes only Age\n",
    "data=data[['Age','Pclass','Fare','Survived']]"
   ]
  },
  {
   "cell_type": "code",
   "execution_count": 68,
   "id": "a1e14e86",
   "metadata": {
    "scrolled": true
   },
   "outputs": [
    {
     "data": {
      "text/plain": [
       "Age         19.86532\n",
       "Pclass       0.00000\n",
       "Fare         0.00000\n",
       "Survived     0.00000\n",
       "dtype: float64"
      ]
     },
     "execution_count": 68,
     "metadata": {},
     "output_type": "execute_result"
    }
   ],
   "source": [
    " data.isnull().mean()*100"
   ]
  },
  {
   "cell_type": "code",
   "execution_count": 69,
   "id": "58765663",
   "metadata": {},
   "outputs": [],
   "source": [
    "# let's impute missing values using KNNimputer\n",
    "from sklearn.impute import KNNImputer,SimpleImputer"
   ]
  },
  {
   "cell_type": "code",
   "execution_count": 70,
   "id": "97c7aa37",
   "metadata": {},
   "outputs": [],
   "source": [
    "imputer=KNNImputer()"
   ]
  },
  {
   "cell_type": "code",
   "execution_count": 71,
   "id": "4b511318",
   "metadata": {},
   "outputs": [],
   "source": [
    "x=data[['Age','Pclass','Fare']]"
   ]
  },
  {
   "cell_type": "code",
   "execution_count": 72,
   "id": "7230c08e",
   "metadata": {},
   "outputs": [],
   "source": [
    "y=data['Survived']"
   ]
  },
  {
   "cell_type": "code",
   "execution_count": null,
   "id": "4c13dcfd",
   "metadata": {},
   "outputs": [],
   "source": []
  },
  {
   "cell_type": "code",
   "execution_count": 73,
   "id": "d8a8cc02",
   "metadata": {},
   "outputs": [],
   "source": [
    "# train test split\n",
    "x_train,x_test,y_train,y_test=train_test_split(x,y)"
   ]
  },
  {
   "cell_type": "code",
   "execution_count": 74,
   "id": "b4d269f0",
   "metadata": {},
   "outputs": [
    {
     "data": {
      "text/html": [
       "<div>\n",
       "<style scoped>\n",
       "    .dataframe tbody tr th:only-of-type {\n",
       "        vertical-align: middle;\n",
       "    }\n",
       "\n",
       "    .dataframe tbody tr th {\n",
       "        vertical-align: top;\n",
       "    }\n",
       "\n",
       "    .dataframe thead th {\n",
       "        text-align: right;\n",
       "    }\n",
       "</style>\n",
       "<table border=\"1\" class=\"dataframe\">\n",
       "  <thead>\n",
       "    <tr style=\"text-align: right;\">\n",
       "      <th></th>\n",
       "      <th>Age</th>\n",
       "      <th>Pclass</th>\n",
       "      <th>Fare</th>\n",
       "    </tr>\n",
       "  </thead>\n",
       "  <tbody>\n",
       "    <tr>\n",
       "      <th>326</th>\n",
       "      <td>61.0</td>\n",
       "      <td>3</td>\n",
       "      <td>6.2375</td>\n",
       "    </tr>\n",
       "    <tr>\n",
       "      <th>63</th>\n",
       "      <td>4.0</td>\n",
       "      <td>3</td>\n",
       "      <td>27.9000</td>\n",
       "    </tr>\n",
       "    <tr>\n",
       "      <th>322</th>\n",
       "      <td>30.0</td>\n",
       "      <td>2</td>\n",
       "      <td>12.3500</td>\n",
       "    </tr>\n",
       "    <tr>\n",
       "      <th>309</th>\n",
       "      <td>30.0</td>\n",
       "      <td>1</td>\n",
       "      <td>56.9292</td>\n",
       "    </tr>\n",
       "    <tr>\n",
       "      <th>261</th>\n",
       "      <td>3.0</td>\n",
       "      <td>3</td>\n",
       "      <td>31.3875</td>\n",
       "    </tr>\n",
       "    <tr>\n",
       "      <th>...</th>\n",
       "      <td>...</td>\n",
       "      <td>...</td>\n",
       "      <td>...</td>\n",
       "    </tr>\n",
       "    <tr>\n",
       "      <th>20</th>\n",
       "      <td>35.0</td>\n",
       "      <td>2</td>\n",
       "      <td>26.0000</td>\n",
       "    </tr>\n",
       "    <tr>\n",
       "      <th>573</th>\n",
       "      <td>NaN</td>\n",
       "      <td>3</td>\n",
       "      <td>7.7500</td>\n",
       "    </tr>\n",
       "    <tr>\n",
       "      <th>283</th>\n",
       "      <td>19.0</td>\n",
       "      <td>3</td>\n",
       "      <td>8.0500</td>\n",
       "    </tr>\n",
       "    <tr>\n",
       "      <th>304</th>\n",
       "      <td>NaN</td>\n",
       "      <td>3</td>\n",
       "      <td>8.0500</td>\n",
       "    </tr>\n",
       "    <tr>\n",
       "      <th>876</th>\n",
       "      <td>20.0</td>\n",
       "      <td>3</td>\n",
       "      <td>9.8458</td>\n",
       "    </tr>\n",
       "  </tbody>\n",
       "</table>\n",
       "<p>223 rows × 3 columns</p>\n",
       "</div>"
      ],
      "text/plain": [
       "      Age  Pclass     Fare\n",
       "326  61.0       3   6.2375\n",
       "63    4.0       3  27.9000\n",
       "322  30.0       2  12.3500\n",
       "309  30.0       1  56.9292\n",
       "261   3.0       3  31.3875\n",
       "..    ...     ...      ...\n",
       "20   35.0       2  26.0000\n",
       "573   NaN       3   7.7500\n",
       "283  19.0       3   8.0500\n",
       "304   NaN       3   8.0500\n",
       "876  20.0       3   9.8458\n",
       "\n",
       "[223 rows x 3 columns]"
      ]
     },
     "execution_count": 74,
     "metadata": {},
     "output_type": "execute_result"
    }
   ],
   "source": [
    "x_test"
   ]
  },
  {
   "cell_type": "code",
   "execution_count": 75,
   "id": "d118963e",
   "metadata": {},
   "outputs": [],
   "source": [
    "knn=KNNImputer(n_neighbors=3,weights='distance')"
   ]
  },
  {
   "cell_type": "code",
   "execution_count": 76,
   "id": "c7245b11",
   "metadata": {},
   "outputs": [],
   "source": [
    "x_train_knn=knn.fit_transform(x_train)"
   ]
  },
  {
   "cell_type": "code",
   "execution_count": 77,
   "id": "eaec9d4d",
   "metadata": {},
   "outputs": [],
   "source": [
    "x_test_knn=knn.transform(x_test)"
   ]
  },
  {
   "cell_type": "code",
   "execution_count": 78,
   "id": "0a24d658",
   "metadata": {},
   "outputs": [],
   "source": [
    "from sklearn.linear_model import LogisticRegression"
   ]
  },
  {
   "cell_type": "code",
   "execution_count": 79,
   "id": "1ff96de5",
   "metadata": {},
   "outputs": [
    {
     "data": {
      "text/plain": [
       "0    0.0\n",
       "1    0.0\n",
       "2    0.0\n",
       "dtype: float64"
      ]
     },
     "execution_count": 79,
     "metadata": {},
     "output_type": "execute_result"
    }
   ],
   "source": [
    "pd.DataFrame(x_train_knn).isnull().mean()"
   ]
  },
  {
   "cell_type": "code",
   "execution_count": 80,
   "id": "382c0294",
   "metadata": {},
   "outputs": [],
   "source": [
    "model=LogisticRegression()"
   ]
  },
  {
   "cell_type": "code",
   "execution_count": 81,
   "id": "0112674d",
   "metadata": {},
   "outputs": [
    {
     "data": {
      "text/plain": [
       "LogisticRegression()"
      ]
     },
     "execution_count": 81,
     "metadata": {},
     "output_type": "execute_result"
    }
   ],
   "source": [
    "model.fit(x_train_knn,y_train)"
   ]
  },
  {
   "cell_type": "code",
   "execution_count": 82,
   "id": "f356f29a",
   "metadata": {},
   "outputs": [],
   "source": [
    "predict=model.predict(x_test_knn)"
   ]
  },
  {
   "cell_type": "code",
   "execution_count": 83,
   "id": "37013b1e",
   "metadata": {},
   "outputs": [
    {
     "data": {
      "text/plain": [
       "0.7085201793721974"
      ]
     },
     "execution_count": 83,
     "metadata": {},
     "output_type": "execute_result"
    }
   ],
   "source": [
    "from sklearn.metrics import accuracy_score\n",
    "accuracy_score(y_test,predict)"
   ]
  },
  {
   "cell_type": "markdown",
   "id": "00001775",
   "metadata": {},
   "source": [
    "# let's do it with mean and see how is the result \n"
   ]
  },
  {
   "cell_type": "code",
   "execution_count": 84,
   "id": "c4c91afc",
   "metadata": {},
   "outputs": [],
   "source": [
    "data1=pd.read_csv('Train.csv',delimiter=',')"
   ]
  },
  {
   "cell_type": "code",
   "execution_count": 85,
   "id": "2392bfc6",
   "metadata": {},
   "outputs": [],
   "source": [
    "data=data[['Age','Pclass','Fare','Survived']]"
   ]
  },
  {
   "cell_type": "code",
   "execution_count": 86,
   "id": "fb69cd60",
   "metadata": {},
   "outputs": [
    {
     "data": {
      "text/plain": [
       "Age         19.86532\n",
       "Pclass       0.00000\n",
       "Fare         0.00000\n",
       "Survived     0.00000\n",
       "dtype: float64"
      ]
     },
     "execution_count": 86,
     "metadata": {},
     "output_type": "execute_result"
    }
   ],
   "source": [
    "data.isnull().mean()*100"
   ]
  },
  {
   "cell_type": "code",
   "execution_count": 88,
   "id": "18e99523",
   "metadata": {},
   "outputs": [],
   "source": [
    "x=data[['Age','Pclass','Fare']]"
   ]
  },
  {
   "cell_type": "code",
   "execution_count": 87,
   "id": "343d1a66",
   "metadata": {},
   "outputs": [],
   "source": [
    "y=data['Survived']"
   ]
  },
  {
   "cell_type": "code",
   "execution_count": 89,
   "id": "681fac98",
   "metadata": {},
   "outputs": [],
   "source": [
    "x1_train,x1_test,y1_train,y1_test=train_test_split(x,y)"
   ]
  },
  {
   "cell_type": "code",
   "execution_count": 90,
   "id": "2650f90f",
   "metadata": {},
   "outputs": [],
   "source": [
    "imputer1=SimpleImputer()"
   ]
  },
  {
   "cell_type": "code",
   "execution_count": 91,
   "id": "601d2683",
   "metadata": {},
   "outputs": [],
   "source": [
    "x1_train_mean=imputer1.fit_transform(x1_train)"
   ]
  },
  {
   "cell_type": "code",
   "execution_count": 93,
   "id": "cc124504",
   "metadata": {},
   "outputs": [
    {
     "data": {
      "text/plain": [
       "0    0.0\n",
       "1    0.0\n",
       "2    0.0\n",
       "dtype: float64"
      ]
     },
     "execution_count": 93,
     "metadata": {},
     "output_type": "execute_result"
    }
   ],
   "source": [
    "pd.DataFrame(x1_train_mean).isnull().mean()"
   ]
  },
  {
   "cell_type": "code",
   "execution_count": 94,
   "id": "2c579ae0",
   "metadata": {},
   "outputs": [],
   "source": [
    "x1_test_mean=imputer1.transform(x1_test)"
   ]
  },
  {
   "cell_type": "code",
   "execution_count": 95,
   "id": "25022687",
   "metadata": {},
   "outputs": [],
   "source": [
    "model1=l=LogisticRegression()"
   ]
  },
  {
   "cell_type": "code",
   "execution_count": 96,
   "id": "4bb85502",
   "metadata": {},
   "outputs": [
    {
     "data": {
      "text/plain": [
       "LogisticRegression()"
      ]
     },
     "execution_count": 96,
     "metadata": {},
     "output_type": "execute_result"
    }
   ],
   "source": [
    "model1.fit(x1_train_mean,y1_train)"
   ]
  },
  {
   "cell_type": "code",
   "execution_count": 98,
   "id": "09247b3d",
   "metadata": {},
   "outputs": [],
   "source": [
    "predict1=model1.predict(x1_test_mean)"
   ]
  },
  {
   "cell_type": "code",
   "execution_count": 99,
   "id": "b6bf5082",
   "metadata": {},
   "outputs": [
    {
     "data": {
      "text/plain": [
       "0.57847533632287"
      ]
     },
     "execution_count": 99,
     "metadata": {},
     "output_type": "execute_result"
    }
   ],
   "source": [
    "accuracy_score(predict1,y_test)"
   ]
  },
  {
   "cell_type": "markdown",
   "id": "4d30a5e9",
   "metadata": {},
   "source": [
    "#  From the accuracy score of knn imputer and mean imputer we can see that \n",
    "# accuracy score was improved by using knn imputer"
   ]
  },
  {
   "cell_type": "code",
   "execution_count": null,
   "id": "dbc22771",
   "metadata": {},
   "outputs": [],
   "source": []
  }
 ],
 "metadata": {
  "kernelspec": {
   "display_name": "Python 3 (ipykernel)",
   "language": "python",
   "name": "python3"
  },
  "language_info": {
   "codemirror_mode": {
    "name": "ipython",
    "version": 3
   },
   "file_extension": ".py",
   "mimetype": "text/x-python",
   "name": "python",
   "nbconvert_exporter": "python",
   "pygments_lexer": "ipython3",
   "version": "3.9.13"
  }
 },
 "nbformat": 4,
 "nbformat_minor": 5
}
